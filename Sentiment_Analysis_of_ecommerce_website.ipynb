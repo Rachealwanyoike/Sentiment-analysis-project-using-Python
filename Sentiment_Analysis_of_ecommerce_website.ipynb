{
  "nbformat": 4,
  "nbformat_minor": 0,
  "metadata": {
    "colab": {
      "provenance": [],
      "authorship_tag": "ABX9TyPGGJczCBBd3MN1llJh1FEx",
      "include_colab_link": true
    },
    "kernelspec": {
      "name": "python3",
      "display_name": "Python 3"
    },
    "language_info": {
      "name": "python"
    }
  },
  "cells": [
    {
      "cell_type": "markdown",
      "metadata": {
        "id": "view-in-github",
        "colab_type": "text"
      },
      "source": [
        "<a href=\"https://colab.research.google.com/github/Rachealwanyoike/Sentiment-analysis-project-using-Python/blob/main/Sentiment_Analysis_of_ecommerce_website.ipynb\" target=\"_parent\"><img src=\"https://colab.research.google.com/assets/colab-badge.svg\" alt=\"Open In Colab\"/></a>"
      ]
    },
    {
      "cell_type": "code",
      "execution_count": 3,
      "metadata": {
        "id": "5uBxdPAD7bT4"
      },
      "outputs": [],
      "source": [
        "import pandas as pd\n",
        "import random\n",
        "import numpy as np\n",
        "import re\n",
        "import nltk\n",
        "from nltk.corpus import stopwords\n",
        "from sklearn.model_selection import train_test_split\n",
        "from sklearn.feature_extraction.text import TfidfVectorizer\n",
        "from sklearn.linear_model import LogisticRegression\n",
        "from sklearn.metrics import precision_score, recall_score, f1_score\n",
        "from sklearn.decomposition import LatentDirichletAllocation\n",
        "from sklearn.feature_extraction.text import CountVectorizer"
      ]
    },
    {
      "cell_type": "code",
      "source": [
        "nltk.download('stopwords')\n",
        "stop_words = set(stopwords.words('english'))"
      ],
      "metadata": {
        "id": "VS8Np2k27pAK"
      },
      "execution_count": null,
      "outputs": []
    },
    {
      "cell_type": "code",
      "source": [
        "# Provided 10 example reviews with sentiment\n",
        "sample_reviews = [\n",
        "    (\"I love the fit and fabric of this shirt. Feels premium!\", 1),\n",
        "    (\"Terrible experience. The sizing is completely off and delivery was delayed.\", 0),\n",
        "    (\"Great quality and fast shipping. Will definitely buy again.\", 1),\n",
        "    (\"Material is scratchy and not as described. Disappointed.\", 0),\n",
        "    (\"Color is vibrant and true to images. Fits perfectly!\", 1),\n",
        "    (\"Not worth the money. Had to return due to poor fit.\", 0),\n",
        "    (\"Excellent value for the price. Comfortable and stylish.\", 1),\n",
        "    (\"Slow delivery and bad customer service. Wouldn't recommend.\", 0),\n",
        "    (\"Soft and breathable fabric. Perfect for summer!\", 1),\n",
        "    (\"The stitching came apart after one wash. Horrible.\", 0)\n",
        "]\n",
        "\n",
        "# Generate 3000 synthetic reviews by sampling with replacement\n",
        "num_records = 3000\n",
        "mock_reviews = [random.choice(sample_reviews) for _ in range(num_records)]\n",
        "\n",
        "# Create DataFrame\n",
        "df_mock_reviews = pd.DataFrame(mock_reviews, columns=[\"review_text\", \"sentiment\"])\n",
        "\n",
        "# Save to CSV\n",
        "df_mock_reviews.to_csv(\"mock_ecommerce_reviews.csv\", index=False)\n",
        "\n",
        "# Optional: display the first few records\n",
        "print(df_mock_reviews.head())\n"
      ],
      "metadata": {
        "colab": {
          "base_uri": "https://localhost:8080/"
        },
        "id": "XJTtqrmZBmK4",
        "outputId": "f8a747fb-c446-44de-c0ec-f6a8bd49844e"
      },
      "execution_count": 4,
      "outputs": [
        {
          "output_type": "stream",
          "name": "stdout",
          "text": [
            "                                         review_text  sentiment\n",
            "0  Great quality and fast shipping. Will definite...          1\n",
            "1  Material is scratchy and not as described. Dis...          0\n",
            "2  Terrible experience. The sizing is completely ...          0\n",
            "3  Great quality and fast shipping. Will definite...          1\n",
            "4    Soft and breathable fabric. Perfect for summer!          1\n"
          ]
        }
      ]
    },
    {
      "cell_type": "code",
      "source": [
        "# Load sample reviews (replace with actual scraping logic or read from file)\n",
        "data = pd.read_csv('sample_reviews.csv')  # Assume columns: review_text, sentiment (1=positive, 0=negative)"
      ],
      "metadata": {
        "id": "-ypZZoY47spF"
      },
      "execution_count": null,
      "outputs": []
    },
    {
      "cell_type": "code",
      "source": [
        "def clean_text(text):\n",
        "    text = re.sub(r'<.*?>', '', text)  # Remove HTML\n",
        "    text = re.sub(r'[^a-zA-Z\\s]', '', text)  # Remove symbols\n",
        "    text = text.lower()\n",
        "    tokens = [word for word in text.split() if word not in stop_words]\n",
        "    return ' '.join(tokens)"
      ],
      "metadata": {
        "id": "0AbRUo3y7yk7"
      },
      "execution_count": null,
      "outputs": []
    }
  ]
}